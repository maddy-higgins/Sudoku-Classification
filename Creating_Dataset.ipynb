{
  "cells": [
    {
      "cell_type": "code",
      "execution_count": null,
      "metadata": {
        "id": "zoEo9rZOzoNm"
      },
      "outputs": [],
      "source": [
        "import numpy as np"
      ]
    },
    {
      "cell_type": "code",
      "source": [
        "import pandas as pd\n",
        "import matplotlib.pyplot as plt"
      ],
      "metadata": {
        "id": "srjfhP5uoo2I"
      },
      "execution_count": null,
      "outputs": []
    },
    {
      "cell_type": "code",
      "execution_count": null,
      "metadata": {
        "id": "XBe8OT3jz8gD"
      },
      "outputs": [],
      "source": [
        "def read_puzzle_file(level):\n",
        "  counter = 0\n",
        "  puzzles = []\n",
        "  puzzle = []\n",
        "  puzzle_names = []\n",
        "  with open(level+\".txt\") as f:\n",
        "    for line in f:\n",
        "      if line[:5] == \"echo:\":\n",
        "        line = line.strip()\n",
        "        counter += 1\n",
        "        if counter % 82 == 0:\n",
        "          puzzle_names.append(line[6:])\n",
        "          puzzles.append(puzzle)\n",
        "          puzzle = []\n",
        "        else:\n",
        "          puzzle.append(line[6:])\n",
        "  return puzzles, puzzle_names"
      ]
    },
    {
      "cell_type": "code",
      "execution_count": null,
      "metadata": {
        "id": "Gou9ibfJ0Ok9"
      },
      "outputs": [],
      "source": [
        "\n",
        "basic_puzzles, basic_names = read_puzzle_file(\"b1\")\n",
        "easy_puzzles, easy_names = read_puzzle_file(\"ea1\")\n",
        "intermediate_puzzles, intermediate_names = read_puzzle_file(\"i1\")\n",
        "advanced_puzzles, advanced_names = read_puzzle_file(\"ad1\")\n",
        "extreme_puzzles, extreme_names = read_puzzle_file(\"ex1\")\n",
        "evil_puzzles, evil_names = read_puzzle_file(\"ev1\")\n",
        "\n",
        "num_puzzles = len(basic_puzzles)"
      ]
    },
    {
      "cell_type": "code",
      "execution_count": null,
      "metadata": {
        "id": "2VIScPCqUWmU"
      },
      "outputs": [],
      "source": []
    },
    {
      "cell_type": "markdown",
      "metadata": {
        "id": "rQeBRgrZGIeD"
      },
      "source": [
        "## Number of clues analysis"
      ]
    },
    {
      "cell_type": "code",
      "execution_count": null,
      "metadata": {
        "id": "UTGBRu_i2rTg"
      },
      "outputs": [],
      "source": [
        "easy_dist = [np.sum([len(x) for x in puzzle]) for puzzle in easy_puzzles]\n",
        "basic_dist = [np.sum([len(x) for x in puzzle]) for puzzle in basic_puzzles]\n",
        "intermediate_dist = [np.sum([len(x) for x in puzzle]) for puzzle in intermediate_puzzles]\n",
        "evil_dist = [np.sum([len(x) for x in puzzle]) for puzzle in evil_puzzles]\n",
        "extreme_dist = [np.sum([len(x) for x in puzzle]) for puzzle in extreme_puzzles]\n",
        "advanced_dist = [np.sum([len(x) for x in puzzle]) for puzzle in advanced_puzzles]"
      ]
    },
    {
      "cell_type": "code",
      "execution_count": null,
      "metadata": {
        "id": "p75gDfUI4Y8o"
      },
      "outputs": [],
      "source": [
        "basic_bars = np.unique(basic_dist, return_counts=True)\n",
        "easy_bars = np.unique(easy_dist, return_counts=True)\n",
        "inter_bars = np.unique(intermediate_dist, return_counts=True)\n",
        "advanced_bars = np.unique(advanced_dist, return_counts=True)\n",
        "extreme_bars = np.unique(extreme_dist, return_counts=True)\n",
        "evil_bars = np.unique(evil_dist, return_counts=True)"
      ]
    },
    {
      "cell_type": "markdown",
      "metadata": {
        "id": "KeGsbOmWF6R4"
      },
      "source": [
        "## Standard Deviation Analysis"
      ]
    },
    {
      "cell_type": "code",
      "execution_count": null,
      "metadata": {
        "id": "IC4CZ1O7-Cek"
      },
      "outputs": [],
      "source": [
        "ba_std = [np.std(np.unique(x, return_counts=True)[1][1:]) for x in basic_puzzles]\n",
        "ea_std = [np.std(np.unique(x, return_counts=True)[1][1:]) for x in easy_puzzles]\n",
        "it_std = [np.std(np.unique(x, return_counts=True)[1][1:]) for x in intermediate_puzzles]\n",
        "ad_std = [np.std(np.unique(x, return_counts=True)[1][1:]) for x in advanced_puzzles]\n",
        "ex_std = [np.std(np.unique(x, return_counts=True)[1][1:]) for x in extreme_puzzles]\n",
        "ev_std = [np.std(np.unique(x, return_counts=True)[1][1:]) for x in evil_puzzles]"
      ]
    },
    {
      "cell_type": "markdown",
      "metadata": {
        "id": "m3x8vFS7F12k"
      },
      "source": [
        "## Region Analysis"
      ]
    },
    {
      "cell_type": "code",
      "execution_count": null,
      "metadata": {
        "id": "-Bkx9lfJA8bF"
      },
      "outputs": [],
      "source": [
        "regions = [0,0,0,1,1,1,0,0,0,\n",
        " 0,0,0,1,1,1,0,0,0,\n",
        " 0,0,0,1,1,1,0,0,0,\n",
        " 1,1,1,2,2,2,1,1,1,\n",
        " 1,1,1,2,2,2,1,1,1,\n",
        " 1,1,1,2,2,2,1,1,1,\n",
        " 0,0,0,1,1,1,0,0,0,\n",
        " 0,0,0,1,1,1,0,0,0,\n",
        " 0,0,0,1,1,1,0,0,0]"
      ]
    },
    {
      "cell_type": "code",
      "execution_count": null,
      "metadata": {
        "id": "b0Ddc6rkDsCE",
        "colab": {
          "base_uri": "https://localhost:8080/"
        },
        "outputId": "da347ced-474b-475d-d373-3ea8a9af3832"
      },
      "outputs": [
        {
          "output_type": "stream",
          "name": "stdout",
          "text": [
            "['4', '', '', '7', '1', '3', '', '', '5', '', '', '8', '', '9', '', '6', '', '', '', '2', '', '', '', '', '', '4', '', '5', '', '', '6', '', '2', '', '', '3', '6', '3', '', '', '', '', '', '8', '2', '7', '', '', '9', '', '8', '', '', '6', '', '1', '', '', '', '', '', '5', '', '', '', '5', '', '8', '', '1', '', '', '9', '', '', '5', '7', '1', '', '', '8']\n"
          ]
        }
      ],
      "source": [
        "r0 = [r == 0 for r in regions]\n",
        "r1 = [r == 1 for r in regions]\n",
        "r2 = [r == 2 for r in regions]\n",
        "print(basic_puzzles[0])"
      ]
    },
    {
      "cell_type": "code",
      "execution_count": null,
      "metadata": {
        "id": "wp2hkazbDwdw"
      },
      "outputs": [],
      "source": [
        "from itertools import compress"
      ]
    },
    {
      "cell_type": "code",
      "execution_count": null,
      "metadata": {
        "id": "eYbBHVJNEo6x"
      },
      "outputs": [],
      "source": [
        "ba_r0 = [np.sum([len(x) for x in compress(puzzle, r0)]) for puzzle in basic_puzzles]\n",
        "ba_r1 = [np.sum([len(x) for x in compress(puzzle, r1)]) for puzzle in basic_puzzles]\n",
        "ba_r2 = [np.sum([len(x) for x in compress(puzzle, r2)]) for puzzle in basic_puzzles]\n",
        "ea_r0 = [np.sum([len(x) for x in compress(puzzle, r0)]) for puzzle in easy_puzzles]\n",
        "ea_r1 = [np.sum([len(x) for x in compress(puzzle, r1)]) for puzzle in easy_puzzles]\n",
        "ea_r2 = [np.sum([len(x) for x in compress(puzzle, r2)]) for puzzle in easy_puzzles]\n",
        "it_r0 = [np.sum([len(x) for x in compress(puzzle, r0)]) for puzzle in intermediate_puzzles]\n",
        "it_r1 = [np.sum([len(x) for x in compress(puzzle, r1)]) for puzzle in intermediate_puzzles]\n",
        "it_r2 = [np.sum([len(x) for x in compress(puzzle, r2)]) for puzzle in intermediate_puzzles]\n",
        "ad_r0 = [np.sum([len(x) for x in compress(puzzle, r0)]) for puzzle in advanced_puzzles]\n",
        "ad_r1 = [np.sum([len(x) for x in compress(puzzle, r1)]) for puzzle in advanced_puzzles]\n",
        "ad_r2 = [np.sum([len(x) for x in compress(puzzle, r2)]) for puzzle in advanced_puzzles]\n",
        "ex_r0 = [np.sum([len(x) for x in compress(puzzle, r0)]) for puzzle in extreme_puzzles]\n",
        "ex_r1 = [np.sum([len(x) for x in compress(puzzle, r1)]) for puzzle in extreme_puzzles]\n",
        "ex_r2 = [np.sum([len(x) for x in compress(puzzle, r2)]) for puzzle in extreme_puzzles]\n",
        "ev_r0 = [np.sum([len(x) for x in compress(puzzle, r0)]) for puzzle in evil_puzzles]\n",
        "ev_r1 = [np.sum([len(x) for x in compress(puzzle, r1)]) for puzzle in evil_puzzles]\n",
        "ev_r2 = [np.sum([len(x) for x in compress(puzzle, r2)]) for puzzle in evil_puzzles]\n"
      ]
    },
    {
      "cell_type": "code",
      "execution_count": null,
      "metadata": {
        "id": "osAkWglR8bTt"
      },
      "outputs": [],
      "source": [
        "regions =[0,0,0,0,0,0,0,0,0,\n",
        "          0,1,1,1,1,1,1,1,0,\n",
        "          0,1,1,1,1,1,1,1,0,\n",
        "          0,1,1,1,1,1,1,1,0,\n",
        "          0,1,1,1,1,1,1,1,0,\n",
        "          0,1,1,1,1,1,1,1,0,\n",
        "          0,1,1,1,1,1,1,1,0,\n",
        "          0,1,1,1,1,1,1,1,0,\n",
        "          0,0,0,0,0,0,0,0,0,]\n"
      ]
    },
    {
      "cell_type": "code",
      "execution_count": null,
      "metadata": {
        "id": "fRpcmFlm9VJT"
      },
      "outputs": [],
      "source": [
        "r0 = [r == 0 for r in regions]\n",
        "r1 = [r == 1 for r in regions]\n",
        "#r2 = [r == 2 for r in regions]\n"
      ]
    },
    {
      "cell_type": "code",
      "execution_count": null,
      "metadata": {
        "id": "-qKCYs7l9dbf"
      },
      "outputs": [],
      "source": [
        "ba_r3 = [np.sum([len(x) for x in compress(puzzle, r0)]) for puzzle in basic_puzzles]\n",
        "ba_r4 = [np.sum([len(x) for x in compress(puzzle, r1)]) for puzzle in basic_puzzles]\n",
        "#ba_r5 = [np.sum([len(x) for x in compress(puzzle, r2)]) for puzzle in basic_puzzles]\n",
        "ea_r3 = [np.sum([len(x) for x in compress(puzzle, r0)]) for puzzle in easy_puzzles]\n",
        "ea_r4 = [np.sum([len(x) for x in compress(puzzle, r1)]) for puzzle in easy_puzzles]\n",
        "#ea_r5 = [np.sum([len(x) for x in compress(puzzle, r2)]) for puzzle in easy_puzzles]\n",
        "it_r3 = [np.sum([len(x) for x in compress(puzzle, r0)]) for puzzle in intermediate_puzzles]\n",
        "it_r4 = [np.sum([len(x) for x in compress(puzzle, r1)]) for puzzle in intermediate_puzzles]\n",
        "#it_r5 = [np.sum([len(x) for x in compress(puzzle, r2)]) for puzzle in intermediate_puzzles]\n",
        "ad_r3 = [np.sum([len(x) for x in compress(puzzle, r0)]) for puzzle in advanced_puzzles]\n",
        "ad_r4 = [np.sum([len(x) for x in compress(puzzle, r1)]) for puzzle in advanced_puzzles]\n",
        "#ad_r5 = [np.sum([len(x) for x in compress(puzzle, r2)]) for puzzle in advanced_puzzles]\n",
        "ex_r3 = [np.sum([len(x) for x in compress(puzzle, r0)]) for puzzle in extreme_puzzles]\n",
        "ex_r4 = [np.sum([len(x) for x in compress(puzzle, r1)]) for puzzle in extreme_puzzles]\n",
        "#ex_r5 = [np.sum([len(x) for x in compress(puzzle, r2)]) for puzzle in extreme_puzzles]\n",
        "ev_r3 = [np.sum([len(x) for x in compress(puzzle, r0)]) for puzzle in evil_puzzles]\n",
        "ev_r4 = [np.sum([len(x) for x in compress(puzzle, r1)]) for puzzle in evil_puzzles]\n",
        "#ev_r5 = [np.sum([len(x) for x in compress(puzzle, r2)]) for puzzle in evil_puzzles]\n"
      ]
    },
    {
      "cell_type": "markdown",
      "metadata": {
        "id": "GK6KSHpuGAuc"
      },
      "source": [
        "## 1s versus 9s analysis and Average Possibility Per Empty Cell"
      ]
    },
    {
      "cell_type": "code",
      "execution_count": null,
      "metadata": {
        "id": "Dr27NvkO05h_"
      },
      "outputs": [],
      "source": [
        "#finds variation in number of each clue - probably a more effective measure of this\n",
        "def variation(puzzle):\n",
        "  nums = [0,0,0,0,0,0,0,0,0] #first 0 represents # of 1s, etc.\n",
        "  for n in puzzle:\n",
        "    if len(n)==1:\n",
        "      nums[int(n)-1] = nums[int(n)-1]+1\n",
        "  return max(nums)-min(nums)"
      ]
    },
    {
      "cell_type": "code",
      "execution_count": null,
      "metadata": {
        "id": "xCL_vxiP5hGd"
      },
      "outputs": [],
      "source": [
        "var_basic_dist = [variation(x) for x in basic_puzzles]\n",
        "var_easy_dist = [variation(x) for x in easy_puzzles]\n",
        "var_inter_dist = [variation(x) for x in intermediate_puzzles]\n",
        "var_adv_dist = [variation(x) for x in advanced_puzzles]\n",
        "var_extreme_dist = [variation(x) for x in extreme_puzzles]\n",
        "var_evil_dist = [variation(x) for x in evil_puzzles]"
      ]
    },
    {
      "cell_type": "code",
      "execution_count": null,
      "metadata": {
        "id": "Yxl2vltW9nzI"
      },
      "outputs": [],
      "source": [
        "import statistics as stat\n",
        "def is_valid(board, index, num):\n",
        "  row = index//9\n",
        "  col = index-(index//9)*9\n",
        "  start_row, start_col = 3*(row//3), 3*(col//3)\n",
        "  for i in range(len(board)):\n",
        "    irow = i//9\n",
        "    icol = i-9*(i//9)\n",
        "    if irow==row:\n",
        "      if str(num)==board[i]:\n",
        "        return False\n",
        "    elif icol==col:\n",
        "      if str(num)==board[i]:\n",
        "        return False\n",
        "    elif 3*(irow//3)==start_row and 3*(icol//3)==start_col:\n",
        "      if str(num)==board[i]:\n",
        "        return False\n",
        "  return True\n",
        "def find_poss(index, board):\n",
        "  poss = [1,2,3,4,5,6,7,8,9]\n",
        "  for n in range(1,10):\n",
        "    if not is_valid(board, index, n):\n",
        "      poss.remove(n)\n",
        "  return poss\n",
        "def avg_poss(board):\n",
        "  lis = [] #keeps track of number of possibilities for each empty cell\n",
        "  for i in range(len(board)):\n",
        "    if board[i]=='':\n",
        "      lis.append(len(find_poss(i, board)))\n",
        "  return stat.mean(lis)\n"
      ]
    },
    {
      "cell_type": "code",
      "execution_count": null,
      "metadata": {
        "id": "3nK_9Jw-Fxvq",
        "colab": {
          "base_uri": "https://localhost:8080/"
        },
        "outputId": "58f32ad2-d599-4bc6-8935-1feba894977f"
      },
      "outputs": [
        {
          "output_type": "execute_result",
          "data": {
            "text/plain": [
              "3.719298245614035"
            ]
          },
          "metadata": {},
          "execution_count": 18
        }
      ],
      "source": [
        "avg_poss(intermediate_puzzles[16])"
      ]
    },
    {
      "cell_type": "code",
      "execution_count": null,
      "metadata": {
        "id": "DjmztCwEzRT8"
      },
      "outputs": [],
      "source": [
        "basic_avg_poss = [avg_poss(x) for x in basic_puzzles]\n",
        "easy_avg_poss = [avg_poss(x) for x in easy_puzzles]\n",
        "inter_avg_poss = [avg_poss(x) for x in intermediate_puzzles]\n",
        "adv_avg_poss = [avg_poss(x) for x in advanced_puzzles]\n",
        "extreme_avg_poss = [avg_poss(x) for x in extreme_puzzles]\n",
        "evil_avg_poss = [avg_poss(x) for x in evil_puzzles]"
      ]
    },
    {
      "cell_type": "markdown",
      "metadata": {
        "id": "ieUSLdtL4fFN"
      },
      "source": [
        "##First Pass/Second Pass"
      ]
    },
    {
      "cell_type": "code",
      "source": [],
      "metadata": {
        "id": "mS72Qo1mcJ5h"
      },
      "execution_count": null,
      "outputs": []
    },
    {
      "cell_type": "code",
      "execution_count": null,
      "metadata": {
        "id": "gXqVsk3qcKHw"
      },
      "outputs": [],
      "source": [
        "def annotate(sudoku):\n",
        "  annotated = []\n",
        "  for x in range(len(sudoku)):\n",
        "    if len(sudoku[x])==1:\n",
        "      annotated.append([int(sudoku[x])])\n",
        "    else:\n",
        "      annotated.append(find_poss(x, sudoku))\n",
        "  return annotated\n",
        "def unannotate(sudoku):\n",
        "  unanno = []\n",
        "  for x in range(len(sudoku)):\n",
        "    if len(sudoku[x])==1:\n",
        "      unanno.append(str(sudoku[x][0]))\n",
        "    else:\n",
        "      unanno.append('')\n",
        "  return unanno\n"
      ]
    },
    {
      "cell_type": "code",
      "source": [
        "print(len(annotate(basic_puzzles[0])))"
      ],
      "metadata": {
        "colab": {
          "base_uri": "https://localhost:8080/"
        },
        "id": "2UeydHctcvq6",
        "outputId": "cd9af366-6363-40f2-f936-a45cabaae480"
      },
      "execution_count": null,
      "outputs": [
        {
          "output_type": "stream",
          "name": "stdout",
          "text": [
            "81\n"
          ]
        }
      ]
    },
    {
      "cell_type": "code",
      "source": [
        "  def solve_sudoku(sudoku):\n",
        "    def get_candidates(row, col):\n",
        "        candidates = set(range(1, 10))\n",
        "        for i in range(9):\n",
        "            candidates.discard(sudoku[row * 9 + i])  # Check row\n",
        "            candidates.discard(sudoku[i * 9 + col])  # Check column\n",
        "            candidates.discard(sudoku[(row // 3 * 3 + i // 3) * 9 + (col // 3 * 3 + i % 3)])  # Check box\n",
        "        return candidates\n",
        "\n",
        "    def is_valid_move(row, col, num):\n",
        "        for i in range(9):\n",
        "            if sudoku[row * 9 + i] == num or sudoku[i * 9 + col] == num or sudoku[(row // 3 * 3 + i // 3) * 9 + (col // 3 * 3 + i % 3)] == num:\n",
        "                return False\n",
        "        return True\n",
        "\n",
        "    def solve():\n",
        "        for row in range(9):\n",
        "            for col in range(9):\n",
        "                if sudoku[row * 9 + col] == 0:\n",
        "                    candidates = get_candidates(row, col)\n",
        "                    if len(candidates) == 1:\n",
        "                        sudoku[row * 9 + col] = candidates.pop()\n",
        "                        return True\n",
        "        return False\n",
        "    while solve():\n",
        "        pass\n"
      ],
      "metadata": {
        "id": "0x0cxFHvpK6e"
      },
      "execution_count": null,
      "outputs": []
    },
    {
      "cell_type": "code",
      "execution_count": null,
      "metadata": {
        "id": "RBbuKCUi4j1o"
      },
      "outputs": [],
      "source": [
        "def subtract_list(big,small):\n",
        "  for x in small:\n",
        "    big.remove(x)\n",
        "  return big\n",
        "\n",
        "def find_unique(numbers):\n",
        "    # Create a dictionary to count occurrences of each number\n",
        "    num_counts = {}\n",
        "    for num in numbers:\n",
        "        if num in num_counts:\n",
        "            num_counts[num] += 1\n",
        "        else:\n",
        "            num_counts[num] = 1\n",
        "\n",
        "    # Filter out numbers that appear only once\n",
        "    unique_numbers = [num for num, count in num_counts.items() if count == 1]\n",
        "\n",
        "    return unique_numbers\n",
        "def first_pass(puzzle):\n",
        "  edit = puzzle.copy()\n",
        "  for x in range(len(edit)):\n",
        "    if len(edit[x])==1:\n",
        "      edit[x]=int(edit[x])\n",
        "    else:\n",
        "      edit[x]=0\n",
        "  solve_sudoku(edit)\n",
        "  for x in range(len(edit)):\n",
        "    if edit[x]==0:\n",
        "      edit[x]=''\n",
        "    else:\n",
        "      edit[x]=str(edit[x])\n",
        "  return unannotate(annotate(edit))\n",
        "def all_pass(puzzle,counter):\n",
        "  if puzzle==first_pass(puzzle):\n",
        "    return puzzle, counter\n",
        "  elif counter>39:\n",
        "    return puzzle, None\n",
        "  else:\n",
        "    return all_pass(first_pass(puzzle), counter+1)\n",
        "\n",
        "#ba_c = [all_pass(basic_puzzles[i], 0)[1] for i in range(10)]"
      ]
    },
    {
      "cell_type": "code",
      "execution_count": null,
      "metadata": {
        "id": "6uj1tRW0xeGF"
      },
      "outputs": [],
      "source": [
        "ba_first = [first_pass(puzzle) for puzzle in basic_puzzles]\n",
        "ea_first = [first_pass(puzzle) for puzzle in easy_puzzles]\n",
        "it_first = [first_pass(puzzle) for puzzle in intermediate_puzzles]\n",
        "ad_first = [first_pass(puzzle) for puzzle in advanced_puzzles]\n",
        "ex_first = [first_pass(puzzle) for puzzle in extreme_puzzles]\n",
        "ev_first = [first_pass(puzzle) for puzzle in evil_puzzles]\n",
        "\n",
        "ba_mod = [np.sum([len(x) for x in puzzle]) for puzzle in ba_first]\n",
        "ea_mod = [np.sum([len(x) for x in puzzle]) for puzzle in ea_first]\n",
        "it_mod = [np.sum([len(x) for x in puzzle]) for puzzle in it_first]\n",
        "ad_mod = [np.sum([len(x) for x in puzzle]) for puzzle in ad_first]\n",
        "ex_mod = [np.sum([len(x) for x in puzzle]) for puzzle in ex_first]\n",
        "ev_mod = [np.sum([len(x) for x in puzzle]) for puzzle in ev_first]\n"
      ]
    },
    {
      "cell_type": "code",
      "execution_count": null,
      "metadata": {
        "id": "bpLX3rFc_D2R"
      },
      "outputs": [],
      "source": [
        "ba_mod2 = [np.sum([len(x) for x in first_pass(puzzle)]) for puzzle in ba_first]\n",
        "ea_mod2 = [np.sum([len(x) for x in first_pass(puzzle)]) for puzzle in ea_first]\n",
        "it_mod2 = [np.sum([len(x) for x in first_pass(puzzle)]) for puzzle in it_first]\n",
        "ad_mod2 = [np.sum([len(x) for x in first_pass(puzzle)]) for puzzle in ad_first]\n",
        "ex_mod2 = [np.sum([len(x) for x in first_pass(puzzle)]) for puzzle in ex_first]\n",
        "ev_mod2 = [np.sum([len(x) for x in first_pass(puzzle)]) for puzzle in ev_first]"
      ]
    },
    {
      "cell_type": "code",
      "execution_count": null,
      "metadata": {
        "id": "Ux5AURnIKKwz"
      },
      "outputs": [],
      "source": [
        "ba_diff = [ba_mod2[i]-basic_dist[i] for i in range(num_puzzles)]\n",
        "ea_diff = [ea_mod2[i]-easy_dist[i] for i in range(num_puzzles)]\n",
        "it_diff = [it_mod2[i]-intermediate_dist[i] for i in range(num_puzzles)]\n",
        "ad_diff = [ad_mod2[i]-advanced_dist[i] for i in range(num_puzzles)]\n",
        "ex_diff = [ex_mod2[i]-extreme_dist[i] for i in range(num_puzzles)]\n",
        "ev_diff = [ev_mod2[i]-evil_dist[i] for i in range(num_puzzles)]"
      ]
    },
    {
      "cell_type": "code",
      "execution_count": null,
      "metadata": {
        "id": "sXLYORl-Hkol"
      },
      "outputs": [],
      "source": [
        "ba_mods = [all_pass(puzzle, 0) for puzzle in ba_first]"
      ]
    },
    {
      "cell_type": "code",
      "execution_count": null,
      "metadata": {
        "id": "T-KAs1uSBt2B"
      },
      "outputs": [],
      "source": [
        "ea_mods = [all_pass(puzzle, 0) for puzzle in ea_first]"
      ]
    },
    {
      "cell_type": "code",
      "execution_count": null,
      "metadata": {
        "id": "hRcCZqeQBu1y"
      },
      "outputs": [],
      "source": [
        "it_mods = [all_pass(puzzle, 0) for puzzle in it_first]"
      ]
    },
    {
      "cell_type": "code",
      "execution_count": null,
      "metadata": {
        "id": "LwqZm5gaBwH0"
      },
      "outputs": [],
      "source": [
        "ad_mods = [all_pass(puzzle, 0) for puzzle in ad_first]"
      ]
    },
    {
      "cell_type": "code",
      "execution_count": null,
      "metadata": {
        "id": "ZLwmp1FVBxBn"
      },
      "outputs": [],
      "source": [
        "ex_mods = [all_pass(puzzle, 0) for puzzle in ex_first]"
      ]
    },
    {
      "cell_type": "code",
      "execution_count": null,
      "metadata": {
        "id": "kBKd4WhlById"
      },
      "outputs": [],
      "source": [
        "ev_mods = [all_pass(puzzle, 0) for puzzle in ev_first]"
      ]
    },
    {
      "cell_type": "code",
      "execution_count": null,
      "metadata": {
        "id": "7wFoWdZTNHSg"
      },
      "outputs": [],
      "source": [
        "ba_mod_puzzles = [x[0] for x in ba_mods]\n",
        "ea_mod_puzzles = [x[0] for x in ea_mods]\n",
        "it_mod_puzzles = [x[0] for x in it_mods]\n",
        "ad_mod_puzzles = [x[0] for x in ad_mods]\n",
        "ex_mod_puzzles = [x[0] for x in ex_mods]\n",
        "ev_mod_puzzles = [x[0] for x in ev_mods]\n",
        "\n",
        "ba_all = [np.sum([len(x) for x in puzzle]) for puzzle in ba_mod_puzzles]\n",
        "ea_all = [np.sum([len(x) for x in puzzle]) for puzzle in ea_mod_puzzles]\n",
        "it_all = [np.sum([len(x) for x in puzzle]) for puzzle in it_mod_puzzles]\n",
        "ad_all = [np.sum([len(x) for x in puzzle]) for puzzle in ad_mod_puzzles]\n",
        "ex_all = [np.sum([len(x) for x in puzzle]) for puzzle in ex_mod_puzzles]\n",
        "ev_all = [np.sum([len(x) for x in puzzle]) for puzzle in ev_mod_puzzles]"
      ]
    },
    {
      "cell_type": "markdown",
      "metadata": {
        "id": "GtaJWVDeVWZN"
      },
      "source": [
        "##Clusters"
      ]
    },
    {
      "cell_type": "code",
      "execution_count": null,
      "metadata": {
        "id": "_27NA4CBVZkX"
      },
      "outputs": [],
      "source": [
        "def clusters(board):\n",
        "  rows, cols = len(board), len(board[0])\n",
        "  visited = [[False]*cols for _ in range(rows)]\n",
        "  numClusters = 0\n",
        "\n",
        "  def dfs(row, col):\n",
        "      if row < 0 or row >= rows or col < 0 or col >= cols or visited[row][col] or board[row][col]==0:\n",
        "          return\n",
        "      visited[row][col] = True\n",
        "      dfs(row-1, col) # up\n",
        "      dfs(row+1, col) # down\n",
        "      dfs(row, col-1) # left\n",
        "      dfs(row, col+1) # right\n",
        "\n",
        "  for row in range(rows):\n",
        "      for col in range(cols):\n",
        "          if not visited[row][col] and board[row][col] !=0:\n",
        "              numClusters += 1\n",
        "              dfs(row, col)\n",
        "  return numClusters\n",
        "\n",
        "def re_shape(puzzle):\n",
        "  row1 = [0 if x =='' else 1 for x in puzzle[0:9]]\n",
        "  row2 = [0 if x =='' else 1 for x in puzzle[9:18]]\n",
        "  row3 = [0 if x =='' else 1 for x in puzzle[18:27]]\n",
        "  row4 = [0 if x =='' else 1 for x in puzzle[27:36]]\n",
        "  row5 = [0 if x =='' else 1 for x in puzzle[36:45]]\n",
        "  row6 = [0 if x =='' else 1 for x in puzzle[45:54]]\n",
        "  row7 = [0 if x =='' else 1 for x in puzzle[54:63]]\n",
        "  row8 = [0 if x =='' else 1 for x in puzzle[63:72]]\n",
        "  row9 = [0 if x =='' else 1 for x in puzzle[72:81]]\n",
        "  board = [row1,row2,row3,row4,row5,row6,row7,row8,row9]\n",
        "  return board"
      ]
    },
    {
      "cell_type": "code",
      "execution_count": null,
      "metadata": {
        "id": "uWJ2u5FVW3Rb"
      },
      "outputs": [],
      "source": [
        "ba_clusters = [clusters(re_shape(x)) for x in basic_puzzles]\n",
        "ea_clusters = [clusters(re_shape(x)) for x in easy_puzzles]\n",
        "it_clusters = [clusters(re_shape(x)) for x in intermediate_puzzles]\n",
        "ad_clusters = [clusters(re_shape(x)) for x in advanced_puzzles]\n",
        "ex_clusters = [clusters(re_shape(x)) for x in extreme_puzzles]\n",
        "ev_clusters = [clusters(re_shape(x)) for x in evil_puzzles]\n"
      ]
    },
    {
      "cell_type": "markdown",
      "metadata": {
        "id": "IJd-9b2MbpZX"
      },
      "source": [
        "## Count Pairs"
      ]
    },
    {
      "cell_type": "code",
      "execution_count": null,
      "metadata": {
        "id": "jNdzDk8axNw9"
      },
      "outputs": [],
      "source": [
        "def count_pairs(puzzle):\n",
        "  pairs = 0\n",
        "  for r in range(0,81,9):\n",
        "    lis = []\n",
        "    for c in range(r,r+9):\n",
        "      if puzzle[c]=='' and len(find_poss(c,puzzle))<3:\n",
        "        lis.append(find_poss(c,puzzle))\n",
        "    pairs = pairs+count_repeated_pairs(lis)\n",
        "  for r in range(9):\n",
        "    lis = []\n",
        "    for c in range(r,r+81,9):\n",
        "      if puzzle[c]=='' and len(find_poss(c,puzzle))<3:\n",
        "        lis.append(find_poss(c,puzzle))\n",
        "    pairs = pairs+count_repeated_pairs(lis)\n",
        "  for l in range(0,81,27):\n",
        "    for b in range(l,l+9,3):\n",
        "      lis = []\n",
        "      for c in range(b,b+3):\n",
        "        if puzzle[c]=='' and len(find_poss(c,puzzle))<3:\n",
        "          lis.append(find_poss(c,puzzle))\n",
        "      for c in range(b+9,b+12):\n",
        "        if puzzle[c]=='' and len(find_poss(c,puzzle))<3:\n",
        "          lis.append(find_poss(c,puzzle))\n",
        "      for c in range(b+18,b+21):\n",
        "        if puzzle[c]=='' and len(find_poss(c,puzzle))<3:\n",
        "          lis.append(find_poss(c,puzzle))\n",
        "      pairs = pairs+count_repeated_pairs(lis)\n",
        "  return pairs"
      ]
    },
    {
      "cell_type": "code",
      "execution_count": null,
      "metadata": {
        "id": "u-2u2srFbqxH"
      },
      "outputs": [],
      "source": [
        "def count_repeated_pairs(pair_list):\n",
        "  pairs = []\n",
        "  repeats = 0\n",
        "  for x in range(len(pair_list)):\n",
        "    new_list = pair_list.copy()\n",
        "    new_list.pop(x)\n",
        "    for p in new_list:\n",
        "      if len(set(pair_list[x]+p))==2:\n",
        "        repeats = repeats + 1\n",
        "        pairs.append(set(pair_list[x]+p))\n",
        "  return repeats/2, pairs\n",
        "def count_repeated_triples(triple_list):\n",
        "  repeats = 0\n",
        "  triples = []\n",
        "  for x in range(len(triple_list)):\n",
        "    one_list = triple_list.copy()\n",
        "    one_list.pop(x)\n",
        "    for y in range(len(one_list)):\n",
        "      two_list = one_list.copy()\n",
        "      two_list.pop(y)\n",
        "      for t in two_list:\n",
        "        if len(set(triple_list[x]+one_list[y]+t))==3:\n",
        "          repeats = repeats+1\n",
        "          triples.append(set(triple_list[x]+one_list[y]+t))\n",
        "  return repeats/6, triples"
      ]
    },
    {
      "cell_type": "code",
      "execution_count": null,
      "metadata": {
        "id": "s5w8j6MPoMKX",
        "colab": {
          "base_uri": "https://localhost:8080/"
        },
        "outputId": "9bfddd93-90db-49f2-e79b-8727144a909a"
      },
      "outputs": [
        {
          "output_type": "stream",
          "name": "stdout",
          "text": [
            "23.0\n"
          ]
        }
      ],
      "source": [
        "def count_groups(puzzle):\n",
        "  groups = 0\n",
        "  for r in range(0,81,9):\n",
        "    lis = []\n",
        "    for c in range(r,r+9):\n",
        "      if puzzle[c]=='' and len(find_poss(c,puzzle))<4:\n",
        "        lis.append(find_poss(c,puzzle))\n",
        "    groups = groups+count_repeated_pairs(lis)[0]\n",
        "    groups = groups+count_repeated_triples(lis)[0]\n",
        "  for r in range(9):\n",
        "    lis = []\n",
        "    for c in range(r,r+81,9):\n",
        "      if puzzle[c]=='' and len(find_poss(c,puzzle))<3:\n",
        "        lis.append(find_poss(c,puzzle))\n",
        "    groups = groups+count_repeated_pairs(lis)[0]\n",
        "    groups = groups+count_repeated_triples(lis)[0]\n",
        "  for l in range(0,81,27):\n",
        "    for b in range(l,l+9,3):\n",
        "      lis = []\n",
        "      for c in range(b,b+3):\n",
        "        if puzzle[c]=='' and len(find_poss(c,puzzle))<3:\n",
        "          lis.append(find_poss(c,puzzle))\n",
        "      for c in range(b+9,b+12):\n",
        "        if puzzle[c]=='' and len(find_poss(c,puzzle))<3:\n",
        "          lis.append(find_poss(c,puzzle))\n",
        "      for c in range(b+18,b+21):\n",
        "        if puzzle[c]=='' and len(find_poss(c,puzzle))<3:\n",
        "          lis.append(find_poss(c,puzzle))\n",
        "      groups = groups+count_repeated_pairs(lis)[0]\n",
        "      groups = groups+count_repeated_triples(lis)[0]\n",
        "  return groups\n",
        "print(count_groups(basic_puzzles[0]))"
      ]
    },
    {
      "cell_type": "code",
      "execution_count": null,
      "metadata": {
        "id": "CWQi6_kogZa1"
      },
      "outputs": [],
      "source": [
        "ba_pairs = [count_groups(x) for x in basic_puzzles]\n",
        "ea_pairs = [count_groups(x) for x in easy_puzzles]\n",
        "it_pairs = [count_groups(x) for x in intermediate_puzzles]\n",
        "ad_pairs = [count_groups(x) for x in advanced_puzzles]\n",
        "ex_pairs = [count_groups(x) for x in extreme_puzzles]\n",
        "ev_pairs = [count_groups(x) for x in evil_puzzles]"
      ]
    },
    {
      "cell_type": "markdown",
      "metadata": {
        "id": "DgXzrqpjyXwW"
      },
      "source": [
        "\n",
        "\n",
        "\n",
        "## Pair Solver"
      ]
    },
    {
      "cell_type": "code",
      "execution_count": null,
      "metadata": {
        "id": "PEj5go_iSSkJ"
      },
      "outputs": [],
      "source": [
        "def annotate(sudoku):\n",
        "  annotated = []\n",
        "  for x in range(len(sudoku)):\n",
        "    if len(sudoku[x])==1:\n",
        "      annotated.append([int(sudoku[x])])\n",
        "    else:\n",
        "      annotated.append(find_poss(x, sudoku))\n",
        "  return annotated\n",
        "def unannotate(sudoku):\n",
        "  unanno = []\n",
        "  for x in range(len(sudoku)):\n",
        "    if len(sudoku[x])==1:\n",
        "      unanno.append(str(sudoku[x][0]))\n",
        "    else:\n",
        "      unanno.append('')\n",
        "  return unanno\n"
      ]
    },
    {
      "cell_type": "code",
      "execution_count": null,
      "metadata": {
        "id": "i5rBcNchPjAt"
      },
      "outputs": [],
      "source": [
        "l =  [[0,0],[0,1],[0,2],[1,0],[1,1],[1,2],[2,0],[2,1],[2,2],\n",
        "      [0,3],[0,4],[0,5],[1,3],[1,4],[1,5],[2,3],[2,4],[2,5],\n",
        "      [0,6],[0,7],[0,8],[1,6],[1,7],[1,8],[2,6],[2,7],[2,8],\n",
        "      [3,0],[3,1],[3,2],[4,0],[4,1],[4,2],[5,0],[5,1],[5,2],\n",
        "      [3,3],[3,4],[3,5],[4,3],[4,4],[4,5],[5,3],[5,4],[5,5],\n",
        "      [3,6],[3,7],[3,8],[4,6],[4,7],[4,8],[5,6],[5,7],[5,8],\n",
        "      [6,0],[6,1],[6,2],[7,0],[7,1],[7,2],[8,0],[8,1],[8,2],\n",
        "      [6,3],[6,4],[6,5],[7,3],[7,4],[7,5],[8,3],[8,4],[8,5],\n",
        "      [6,6],[6,7],[6,8],[7,6],[7,7],[7,8],[8,6],[8,7],[8,8]]\n",
        "\n",
        "\n",
        "def row_reduce(anno):\n",
        "  rows = []\n",
        "  for x in range(0,81,9):\n",
        "    rows.append(anno[x:x+9])\n",
        "  for c in range(len(rows)):\n",
        "    pairs = count_repeated_pairs(rows[c])[1]\n",
        "    for pair in pairs:\n",
        "      for cell in range(len(rows[c])):\n",
        "        if len(set(rows[c][cell]+list(pair)))>2:\n",
        "          try:\n",
        "            anno[c*9+cell].remove(list(pair)[0])\n",
        "          except:\n",
        "            z=0\n",
        "          try:\n",
        "            anno[c*9+cell].remove(list(pair)[1])\n",
        "          except:\n",
        "            z=0\n",
        "  return anno\n",
        "def box_reduce(anno1):\n",
        "  anno = anno1.copy()\n",
        "\n",
        "  boxes = []\n",
        "  for x in range(0,81,27):\n",
        "    for b in range(x,x+9,3):\n",
        "      box = []\n",
        "      for c in range(b,b+3):\n",
        "        box.append(anno[c])\n",
        "      for c in range(b+9,b+12):\n",
        "        box.append(anno[c])\n",
        "      for c in range(b+18,b+21):\n",
        "        box.append(anno[c])\n",
        "      boxes.append(box)\n",
        "\n",
        "  for c in range(len(boxes)):\n",
        "    pairs = count_repeated_pairs(boxes[c])[1]\n",
        "    for cell in range(len(boxes[c])):\n",
        "      for pair in pairs:\n",
        "        if len(set(boxes[c][cell]+list(pair)))>2:\n",
        "          try:\n",
        "            anno1[l.index([c,cell])].remove(list(pair)[0])\n",
        "          except:\n",
        "            z=0\n",
        "          try:\n",
        "            anno1[l.index([c,cell])].remove(list(pair)[1])\n",
        "\n",
        "          except:\n",
        "            z=0\n",
        "  return anno\n",
        "def col_reduce(anno1):\n",
        "  anno = anno1.copy()\n",
        "  cols = [[anno[x] for x in range(n,n+81,9)] for n in range(9)]\n",
        "  for c in range(len(cols)):\n",
        "    pairs = count_repeated_pairs(cols[c])[1]\n",
        "    for cell in range(len(cols[c])):\n",
        "      for pair in pairs:\n",
        "        if len(set(cols[c][cell]+list(pair)))>2:\n",
        "          try:\n",
        "            anno1[cell*9+c].remove(list(pair)[0])\n",
        "          except:\n",
        "            z=0\n",
        "          try:\n",
        "            anno1[cell*9+c].remove(list(pair)[1])\n",
        "          except:\n",
        "            z=0\n",
        "  return anno\n",
        "def pair_reduce(puzzle):\n",
        "  return box_reduce(row_reduce(col_reduce(puzzle)))\n",
        "\n",
        "def re_shape(puzzle):\n",
        "  row1 = [0 if x =='' else int(x) for x in puzzle[0:9]]\n",
        "  row2 = [0 if x =='' else int(x) for x in puzzle[9:18]]\n",
        "  row3 = [0 if x =='' else int(x) for x in puzzle[18:27]]\n",
        "  row4 = [0 if x =='' else int(x) for x in puzzle[27:36]]\n",
        "  row5 = [0 if x =='' else int(x) for x in puzzle[36:45]]\n",
        "  row6 = [0 if x =='' else int(x) for x in puzzle[45:54]]\n",
        "  row7 = [0 if x =='' else int(x) for x in puzzle[54:63]]\n",
        "  row8 = [0 if x =='' else int(x) for x in puzzle[63:72]]\n",
        "  row9 = [0 if x =='' else int(x) for x in puzzle[72:81]]\n",
        "  board = [row1,row2,row3,row4,row5,row6,row7,row8,row9]\n",
        "  return board"
      ]
    },
    {
      "cell_type": "code",
      "source": [
        "print(basic_puzzles[1])\n",
        "for x in box_reduce(pair_reduce(annotate(basic_puzzles[1]))):\n",
        "  if x==[]:\n",
        "    print(\"A\")\n"
      ],
      "metadata": {
        "id": "3TraQ9XknBhX",
        "colab": {
          "base_uri": "https://localhost:8080/"
        },
        "outputId": "15a5a804-66d7-4a7d-c8d5-235b46954512"
      },
      "execution_count": null,
      "outputs": [
        {
          "output_type": "stream",
          "name": "stdout",
          "text": [
            "['', '', '6', '3', '', '5', '7', '', '', '', '', '', '7', '', '1', '', '', '', '5', '3', '', '2', '', '6', '', '1', '4', '2', '1', '', '', '', '', '', '8', '3', '', '', '8', '', '', '', '2', '', '', '3', '6', '', '', '', '', '', '7', '9', '8', '4', '', '5', '', '2', '', '6', '7', '', '', '', '6', '', '4', '', '', '', '', '', '2', '8', '', '9', '3', '', '']\n"
          ]
        }
      ]
    },
    {
      "cell_type": "code",
      "source": [
        "ba_pairmod = [np.sum([len(x) for x in unannotate(pair_reduce(annotate(puzzle)))]) for puzzle in basic_puzzles]\n",
        "ea_pairmod = [np.sum([len(x) for x in unannotate(pair_reduce(annotate(puzzle)))]) for puzzle in easy_puzzles]\n",
        "it_pairmod = [np.sum([len(x) for x in unannotate(pair_reduce(annotate(puzzle)))]) for puzzle in intermediate_puzzles]\n",
        "ad_pairmod = [np.sum([len(x) for x in unannotate(pair_reduce(annotate(puzzle)))]) for puzzle in advanced_puzzles]\n",
        "ex_pairmod = [np.sum([len(x) for x in unannotate(pair_reduce(annotate(puzzle)))]) for puzzle in extreme_puzzles]\n",
        "ev_pairmod = [np.sum([len(x) for x in unannotate(pair_reduce(annotate(puzzle)))]) for puzzle in evil_puzzles]\n"
      ],
      "metadata": {
        "id": "us6UiTrud9Xy"
      },
      "execution_count": null,
      "outputs": []
    },
    {
      "cell_type": "code",
      "source": [
        "ba_pairmod2 = [np.sum([len(x) for x in unannotate(pair_reduce(pair_reduce(annotate(puzzle))))]) for puzzle in basic_puzzles]\n",
        "ea_pairmod2 = [np.sum([len(x) for x in unannotate(pair_reduce(pair_reduce(annotate(puzzle))))]) for puzzle in easy_puzzles]\n",
        "it_pairmod2 = [np.sum([len(x) for x in unannotate(pair_reduce(pair_reduce(annotate(puzzle))))]) for puzzle in intermediate_puzzles]\n",
        "ad_pairmod2 = [np.sum([len(x) for x in unannotate(pair_reduce(pair_reduce(annotate(puzzle))))]) for puzzle in advanced_puzzles]\n",
        "ex_pairmod2 = [np.sum([len(x) for x in unannotate(pair_reduce(pair_reduce(annotate(puzzle))))]) for puzzle in extreme_puzzles]\n",
        "ev_pairmod2 = [np.sum([len(x) for x in unannotate(pair_reduce(pair_reduce(annotate(puzzle))))]) for puzzle in evil_puzzles]\n"
      ],
      "metadata": {
        "id": "iCpX82mbUKef"
      },
      "execution_count": null,
      "outputs": []
    },
    {
      "cell_type": "code",
      "source": [
        "ba_pdiff2 = [ba_pairmod2[i]-basic_dist[i] for i in range(num_puzzles)]\n",
        "ea_pdiff2 = [ea_pairmod2[i]-easy_dist[i] for i in range(num_puzzles)]\n",
        "it_pdiff2 = [it_pairmod2[i]-intermediate_dist[i] for i in range(num_puzzles)]\n",
        "ad_pdiff2 = [ad_pairmod2[i]-advanced_dist[i] for i in range(num_puzzles)]\n",
        "ex_pdiff2 = [ea_pairmod2[i]-extreme_dist[i] for i in range(num_puzzles)]\n",
        "ev_pdiff2 = [ea_pairmod2[i]-evil_dist[i] for i in range(num_puzzles)]\n",
        "\n"
      ],
      "metadata": {
        "id": "GVFNP4aHlSZ_"
      },
      "execution_count": null,
      "outputs": []
    },
    {
      "cell_type": "code",
      "source": [
        "ba_pairposs = [np.sum([len(x) for x in pair_reduce(pair_reduce(annotate(basic_puzzles[i])))])-np.sum([len(x) for x in annotate(basic_puzzles[i])]) for i in range(num_puzzles)]\n",
        "ea_pairposs = [np.sum([len(x) for x in pair_reduce(pair_reduce(annotate(easy_puzzles[i])))])-np.sum([len(x) for x in annotate(easy_puzzles[i])]) for i in range(num_puzzles)]\n",
        "it_pairposs = [np.sum([len(x) for x in pair_reduce(pair_reduce(annotate(intermediate_puzzles[i])))])-np.sum([len(x) for x in annotate(intermediate_puzzles[i])]) for i in range(num_puzzles)]\n",
        "ad_pairposs = [np.sum([len(x) for x in pair_reduce(pair_reduce(annotate(advanced_puzzles[i])))])-np.sum([len(x) for x in annotate(advanced_puzzles[i])]) for i in range(num_puzzles)]\n",
        "ex_pairposs = [np.sum([len(x) for x in pair_reduce(pair_reduce(annotate(extreme_puzzles[i])))])-np.sum([len(x) for x in annotate(extreme_puzzles[i])]) for i in range(num_puzzles)]\n",
        "ev_pairposs = [np.sum([len(x) for x in pair_reduce(pair_reduce(annotate(evil_puzzles[i])))])-np.sum([len(x) for x in annotate(evil_puzzles[i])]) for i in range(num_puzzles)]"
      ],
      "metadata": {
        "id": "SbBNIJ3SQ3lo"
      },
      "execution_count": null,
      "outputs": []
    },
    {
      "cell_type": "markdown",
      "metadata": {
        "id": "oomIKSj_GM7H"
      },
      "source": [
        "## Assemble feature table"
      ]
    },
    {
      "cell_type": "code",
      "execution_count": null,
      "metadata": {
        "id": "Dnyw72hiGPSG"
      },
      "outputs": [],
      "source": [
        "ba_data = pd.DataFrame({\"NoC\":basic_dist, \"stddev\":ba_std, \"Var\":var_basic_dist, \"r0\": ba_r0, \"r1\": ba_r1, \"r2\": ba_r2, \"r3\": ba_r3, \"NoC after pass\": ba_mod, \"NoC after 2pass\": ba_mod2, \"NoC after passes\":ba_all,\"Pair Red2\": ba_pairmod2, \"Pair Diff2\": ba_pdiff2, \"NoC diff\": ba_diff,  \"Poss\": basic_avg_poss,\n",
        "                        \"Clusters\": ba_clusters,\"Pair Red\": ba_pairmod, \"Pairs\":ba_pairs, 'Pairs Poss': ba_pairposs, \"difficulty\":0})\n",
        "\n",
        "ea_data = pd.DataFrame({\"NoC\":easy_dist, \"stddev\":ea_std, \"Var\":var_easy_dist, \"r0\": ea_r0, \"r1\": ea_r1, \"r2\": ea_r2, \"r3\": ea_r3, \"NoC after pass\": ea_mod, \"NoC after 2pass\": ea_mod2, \"NoC after passes\":ea_all,\"Pair Red2\": ea_pairmod2, \"Pair Diff2\": ea_pdiff2, \"NoC diff\": ea_diff,  \"Poss\": easy_avg_poss,\n",
        "                        \"Clusters\": ea_clusters,\"Pair Red\": ea_pairmod, \"Pairs\":ea_pairs, 'Pairs Poss': ea_pairposs, \"difficulty\":1})\n",
        "\n",
        "it_data = pd.DataFrame({\"NoC\":intermediate_dist, \"stddev\":it_std, \"Var\":var_inter_dist, \"r0\": it_r0, \"r1\": it_r1, \"r2\": it_r2, \"r3\": it_r3, \"NoC after pass\": it_mod, \"NoC after 2pass\": it_mod2, \"NoC after passes\":it_all,\"Pair Red2\": it_pairmod2, \"Pair Diff2\": it_pdiff2, \"NoC diff\": it_diff,  \"Poss\": inter_avg_poss,\n",
        "                        \"Clusters\": it_clusters,\"Pair Red\": it_pairmod, \"Pairs\":it_pairs, 'Pairs Poss': it_pairposs, \"difficulty\":2})\n",
        "\n",
        "ad_data = pd.DataFrame({\"NoC\":advanced_dist, \"stddev\":ad_std, \"Var\":var_adv_dist, \"r0\": ad_r0, \"r1\": ad_r1, \"r2\": ad_r2, \"r3\": ad_r3, \"NoC after pass\": ad_mod, \"NoC after 2pass\": ad_mod2, \"NoC after passes\":ad_all,\"Pair Red2\": ad_pairmod2, \"Pair Diff2\": ad_pdiff2, \"NoC diff\": ad_diff,  \"Poss\": adv_avg_poss,\n",
        "                        \"Clusters\": ad_clusters,\"Pair Red\": ad_pairmod, \"Pairs\":ad_pairs, 'Pairs Poss': ad_pairposs, \"difficulty\":3})\n",
        "\n",
        "ex_data = pd.DataFrame({\"NoC\":extreme_dist, \"stddev\":ex_std, \"Var\":var_extreme_dist, \"r0\": ex_r0, \"r1\": ex_r1, \"r2\": ex_r2, \"r3\": ex_r3, \"NoC after pass\": ex_mod, \"NoC after 2pass\": ex_mod2, \"NoC after passes\":ex_all,\"Pair Red2\": ex_pairmod2, \"Pair Diff2\": ex_pdiff2, \"NoC diff\": ex_diff,  \"Poss\": extreme_avg_poss,\n",
        "                        \"Clusters\": ex_clusters,\"Pair Red\": ex_pairmod, \"Pairs\":ex_pairs, 'Pairs Poss': ex_pairposs, \"difficulty\":4})\n",
        "\n",
        "ev_data = pd.DataFrame({\"NoC\":evil_dist, \"stddev\":ev_std, \"Var\":var_evil_dist, \"r0\": ev_r0, \"r1\": ev_r1, \"r2\": ev_r2, \"r3\": ev_r3, \"NoC after pass\": ev_mod, \"NoC after 2pass\": ev_mod2, \"NoC after passes\":ev_all,\"Pair Red2\": ev_pairmod2, \"Pair Diff2\": ev_pdiff2, \"NoC diff\": ev_diff,  \"Poss\": evil_avg_poss,\n",
        "                        \"Clusters\": ev_clusters,\"Pair Red\": ev_pairmod, \"Pairs\":ev_pairs, 'Pairs Poss': ev_pairposs, \"difficulty\":5})\n"
      ]
    },
    {
      "cell_type": "code",
      "execution_count": null,
      "metadata": {
        "id": "-Yjjad8ZGeWs"
      },
      "outputs": [],
      "source": [
        "dataset = pd.concat([ba_data,ea_data,it_data,ad_data,ex_data,ev_data])\n",
        "dataset.to_csv('sudoku_data.csv')"
      ]
    }
  ],
  "metadata": {
    "colab": {
      "provenance": [],
      "collapsed_sections": [
        "rQeBRgrZGIeD",
        "KeGsbOmWF6R4",
        "m3x8vFS7F12k",
        "GK6KSHpuGAuc",
        "GtaJWVDeVWZN"
      ]
    },
    "kernelspec": {
      "display_name": "Python 3",
      "name": "python3"
    },
    "language_info": {
      "name": "python"
    }
  },
  "nbformat": 4,
  "nbformat_minor": 0
}